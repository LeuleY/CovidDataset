{
 "cells": [
  {
   "cell_type": "code",
   "execution_count": 7,
   "id": "317dda38-d78a-453e-8e4e-91aab4cde27d",
   "metadata": {},
   "outputs": [],
   "source": [
    "import pandas as pd \n",
    "import numpy as np\n",
    "import seaborn as sns\n",
    "import matplotlib.pyplot as plt\n"
   ]
  },
  {
   "cell_type": "code",
   "execution_count": 9,
   "id": "3425fbcd-3711-4cd4-aa1c-e42d3e5774de",
   "metadata": {},
   "outputs": [],
   "source": [
    "data = pd.read_csv(r\"C:\\Users\\leule\\Downloads\\Cleaned_311_Customer_Service_Request.csv\", low_memory=False)"
   ]
  },
  {
   "cell_type": "code",
   "execution_count": 11,
   "id": "dff61124-a899-4936-a02e-803a3bb33fc6",
   "metadata": {},
   "outputs": [
    {
     "data": {
      "text/html": [
       "<div>\n",
       "<style scoped>\n",
       "    .dataframe tbody tr th:only-of-type {\n",
       "        vertical-align: middle;\n",
       "    }\n",
       "\n",
       "    .dataframe tbody tr th {\n",
       "        vertical-align: top;\n",
       "    }\n",
       "\n",
       "    .dataframe thead th {\n",
       "        text-align: right;\n",
       "    }\n",
       "</style>\n",
       "<table border=\"1\" class=\"dataframe\">\n",
       "  <thead>\n",
       "    <tr style=\"text-align: right;\">\n",
       "      <th></th>\n",
       "      <th>SRType</th>\n",
       "      <th>Latitude</th>\n",
       "      <th>Longitude</th>\n",
       "      <th>Category</th>\n",
       "      <th>Neighborhood</th>\n",
       "    </tr>\n",
       "  </thead>\n",
       "  <tbody>\n",
       "    <tr>\n",
       "      <th>0</th>\n",
       "      <td>SW-Rat Rubout Proactive</td>\n",
       "      <td>39.325431</td>\n",
       "      <td>-76.601325</td>\n",
       "      <td>waste</td>\n",
       "      <td>BETTER WAVERLY</td>\n",
       "    </tr>\n",
       "    <tr>\n",
       "      <th>1</th>\n",
       "      <td>SW-Rat Rubout Proactive</td>\n",
       "      <td>39.325484</td>\n",
       "      <td>-76.601515</td>\n",
       "      <td>waste</td>\n",
       "      <td>BETTER WAVERLY</td>\n",
       "    </tr>\n",
       "    <tr>\n",
       "      <th>2</th>\n",
       "      <td>SW-Rat Rubout Proactive</td>\n",
       "      <td>39.325379</td>\n",
       "      <td>-76.601178</td>\n",
       "      <td>waste</td>\n",
       "      <td>BETTER WAVERLY</td>\n",
       "    </tr>\n",
       "    <tr>\n",
       "      <th>3</th>\n",
       "      <td>SW-Rat Rubout Proactive</td>\n",
       "      <td>39.280306</td>\n",
       "      <td>-76.653635</td>\n",
       "      <td>waste</td>\n",
       "      <td>CARROLLTON RIDGE</td>\n",
       "    </tr>\n",
       "    <tr>\n",
       "      <th>4</th>\n",
       "      <td>SW-Rat Rubout Proactive</td>\n",
       "      <td>39.281096</td>\n",
       "      <td>-76.655884</td>\n",
       "      <td>waste</td>\n",
       "      <td>MILLHILL</td>\n",
       "    </tr>\n",
       "  </tbody>\n",
       "</table>\n",
       "</div>"
      ],
      "text/plain": [
       "                    SRType   Latitude  Longitude Category      Neighborhood\n",
       "0  SW-Rat Rubout Proactive  39.325431 -76.601325    waste    BETTER WAVERLY\n",
       "1  SW-Rat Rubout Proactive  39.325484 -76.601515    waste    BETTER WAVERLY\n",
       "2  SW-Rat Rubout Proactive  39.325379 -76.601178    waste    BETTER WAVERLY\n",
       "3  SW-Rat Rubout Proactive  39.280306 -76.653635    waste  CARROLLTON RIDGE\n",
       "4  SW-Rat Rubout Proactive  39.281096 -76.655884    waste          MILLHILL"
      ]
     },
     "execution_count": 11,
     "metadata": {},
     "output_type": "execute_result"
    }
   ],
   "source": [
    "data.head()"
   ]
  },
  {
   "cell_type": "code",
   "execution_count": 13,
   "id": "ca73a722-5190-4a8f-b493-f264a434ca36",
   "metadata": {},
   "outputs": [
    {
     "data": {
      "text/plain": [
       "Index(['SRType', 'Latitude', 'Longitude', 'Category', 'Neighborhood'], dtype='object')"
      ]
     },
     "execution_count": 13,
     "metadata": {},
     "output_type": "execute_result"
    }
   ],
   "source": [
    "data.columns"
   ]
  },
  {
   "cell_type": "code",
   "execution_count": null,
   "id": "fb8b2fcb-626c-41e3-a9f9-6ea0739dbe11",
   "metadata": {},
   "outputs": [],
   "source": []
  }
 ],
 "metadata": {
  "kernelspec": {
   "display_name": "Python 3 (ipykernel)",
   "language": "python",
   "name": "python3"
  },
  "language_info": {
   "codemirror_mode": {
    "name": "ipython",
    "version": 3
   },
   "file_extension": ".py",
   "mimetype": "text/x-python",
   "name": "python",
   "nbconvert_exporter": "python",
   "pygments_lexer": "ipython3",
   "version": "3.12.4"
  }
 },
 "nbformat": 4,
 "nbformat_minor": 5
}
